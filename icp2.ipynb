{
  "nbformat": 4,
  "nbformat_minor": 0,
  "metadata": {
    "colab": {
      "provenance": []
    },
    "kernelspec": {
      "name": "python3",
      "display_name": "Python 3"
    },
    "language_info": {
      "name": "python"
    }
  },
  "cells": [
    {
      "cell_type": "code",
      "execution_count": null,
      "metadata": {
        "colab": {
          "base_uri": "https://localhost:8080/"
        },
        "id": "obrj5sy_hMMA",
        "outputId": "beb91901-3c8a-447c-c0ce-1ece6167de9a"
      },
      "outputs": [
        {
          "output_type": "stream",
          "name": "stdout",
          "text": [
            "Enter your first name: Dheeraj\n",
            "Enter your last name: annam\n",
            "Full Name: Dheeraj annam\n",
            "Every Other Character in Full Name: Derjanm\n"
          ]
        }
      ],
      "source": [
        "def fullname(first_name, last_name):\n",
        "    full_name = first_name + \" \" + last_name\n",
        "    return full_name\n",
        "\n",
        "def string_alternative(full_name):\n",
        "    return full_name[::2]\n",
        "\n",
        "def main():\n",
        "    first_name = input(\"Enter your first name: \")\n",
        "    last_name = input(\"Enter your last name: \")\n",
        "\n",
        "\n",
        "    full_name = fullname(first_name, last_name)\n",
        "    print(\"Full Name:\", full_name)\n",
        "\n",
        "\n",
        "    result = string_alternative(full_name)\n",
        "    print(\"Every Other Character in Full Name:\", result)\n",
        "\n",
        "if __name__ == \"__main__\":\n",
        "    main()\n"
      ]
    },
    {
      "cell_type": "code",
      "source": [],
      "metadata": {
        "id": "yfIkN0AkXDLt"
      },
      "execution_count": null,
      "outputs": []
    },
    {
      "cell_type": "code",
      "source": [
        "l=[]\n",
        "l1=[]\n",
        "n=int(input(\"Enter number of customers:\"))\n",
        "for i in range(n):\n",
        "  l.append(int(input()))\n",
        "  l1.append(l[i]*2.54)\n",
        "print(l)\n",
        "print(l1)"
      ],
      "metadata": {
        "colab": {
          "base_uri": "https://localhost:8080/"
        },
        "id": "n7MS3K0jWANO",
        "outputId": "11f5a1cb-65b4-44f0-c024-0a31fb6b6ec0"
      },
      "execution_count": null,
      "outputs": [
        {
          "output_type": "stream",
          "name": "stdout",
          "text": [
            "Enter number of customers:4\n",
            "150\n",
            "155\n",
            "145\n",
            "148\n",
            "[150, 155, 145, 148]\n",
            "[381.0, 393.7, 368.3, 375.92]\n"
          ]
        }
      ]
    },
    {
      "cell_type": "code",
      "source": [
        "text = open(\"input.txt\", \"r\")\n",
        "d = dict()\n",
        "for line in text:\n",
        "\n",
        "    line = line.strip()\n",
        "    line = line.lower()\n",
        "    words = line.split(\" \")\n",
        "    for word in words:\n",
        "        if word in d:\n",
        "            d[word] = d[word] + 1\n",
        "        else:\n",
        "            d[word] = 1\n",
        "file1 = open('output.txt', 'w')\n",
        "s=\"\"\n",
        "for key in list(d.keys()):\n",
        "    s+=key+ \":\"+ str(d[key])+\"\\n\"\n",
        "file1.write(s)\n",
        "file1.close()"
      ],
      "metadata": {
        "id": "A90U4QTnXGh1"
      },
      "execution_count": null,
      "outputs": []
    }
  ]
}